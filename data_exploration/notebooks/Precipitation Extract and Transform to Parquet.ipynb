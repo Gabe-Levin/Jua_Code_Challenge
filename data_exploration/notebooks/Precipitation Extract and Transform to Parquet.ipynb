{
 "cells": [
  {
   "cell_type": "code",
   "execution_count": 2,
   "id": "32f1da28",
   "metadata": {},
   "outputs": [],
   "source": [
    "# Initialize notebook environment.\n",
    "import boto3\n",
    "import botocore\n",
    "import datetime\n",
    "import os.path\n",
    "import xarray as xr\n",
    "from dotenv import load_dotenv"
   ]
  },
  {
   "cell_type": "code",
   "execution_count": 3,
   "id": "13b38942",
   "metadata": {},
   "outputs": [],
   "source": [
    "load_dotenv()\n",
    "DATA_DIR = os.environ.get(\"DATA_DIR\")"
   ]
  },
  {
   "cell_type": "markdown",
   "id": "7c124bd5",
   "metadata": {},
   "source": [
    "## Data Exploration and Download\n",
    "A majority of the code from this section was taken from planet-os repo, referenced in the readme and linked here:\n",
    "https://github.com/planet-os/notebooks/blob/master/aws/era5-s3-via-boto.ipynb"
   ]
  },
  {
   "cell_type": "code",
   "execution_count": 4,
   "id": "2bd03dec",
   "metadata": {},
   "outputs": [],
   "source": [
    "era5_bucket = 'era5-pds'\n",
    "\n",
    "# AWS access / secret keys required\n",
    "# s3 = boto3.resource('s3')\n",
    "# bucket = s3.Bucket(era5_bucket)\n",
    "\n",
    "# No AWS keys required\n",
    "client = boto3.client('s3', config=botocore.client.Config(signature_version=botocore.UNSIGNED))"
   ]
  },
  {
   "cell_type": "code",
   "execution_count": 4,
   "id": "a1e95d1d",
   "metadata": {
    "collapsed": true
   },
   "outputs": [
    {
     "name": "stdout",
     "output_type": "stream",
     "text": [
      "1979/\n",
      "1980/\n",
      "1981/\n",
      "1982/\n",
      "1983/\n",
      "1984/\n",
      "1985/\n",
      "1986/\n",
      "1987/\n",
      "1988/\n",
      "1989/\n",
      "1990/\n",
      "1991/\n",
      "1992/\n",
      "1993/\n",
      "1994/\n",
      "1995/\n",
      "1996/\n",
      "1997/\n",
      "1998/\n",
      "1999/\n",
      "2000/\n",
      "2001/\n",
      "2002/\n",
      "2003/\n",
      "2004/\n",
      "2005/\n",
      "2006/\n",
      "2007/\n",
      "2008/\n",
      "2009/\n",
      "2010/\n",
      "2011/\n",
      "2012/\n",
      "2013/\n",
      "2014/\n",
      "2015/\n",
      "2016/\n",
      "2017/\n",
      "2018/\n",
      "2019/\n",
      "2020/\n",
      "2021/\n",
      "2022/\n",
      "QA/\n",
      "zarr/\n"
     ]
    }
   ],
   "source": [
    "paginator = client.get_paginator('list_objects')\n",
    "result = paginator.paginate(Bucket=era5_bucket, Delimiter='/')\n",
    "for prefix in result.search('CommonPrefixes'):\n",
    "    print(prefix.get('Prefix'))"
   ]
  },
  {
   "cell_type": "code",
   "execution_count": 5,
   "id": "c96bab1a",
   "metadata": {
    "collapsed": true
   },
   "outputs": [
    {
     "name": "stdout",
     "output_type": "stream",
     "text": [
      "There are 19 objects available for May, 2022\n",
      "--\n",
      "2022/05/data/air_pressure_at_mean_sea_level.nc\n",
      "2022/05/data/air_temperature_at_2_metres.nc\n",
      "2022/05/data/air_temperature_at_2_metres_1hour_Maximum.nc\n",
      "2022/05/data/air_temperature_at_2_metres_1hour_Minimum.nc\n",
      "2022/05/data/dew_point_temperature_at_2_metres.nc\n",
      "2022/05/data/eastward_wind_at_100_metres.nc\n",
      "2022/05/data/eastward_wind_at_10_metres.nc\n",
      "2022/05/data/integral_wrt_time_of_surface_direct_downwelling_shortwave_flux_in_air_1hour_Accumulation.nc\n",
      "2022/05/data/lwe_thickness_of_surface_snow_amount.nc\n",
      "2022/05/data/northward_wind_at_100_metres.nc\n",
      "2022/05/data/northward_wind_at_10_metres.nc\n",
      "2022/05/data/precipitation_amount_1hour_Accumulation.nc\n",
      "2022/05/data/sea_surface_temperature.nc\n",
      "2022/05/data/sea_surface_wave_from_direction.nc\n",
      "2022/05/data/sea_surface_wave_mean_period.nc\n",
      "2022/05/data/significant_height_of_wind_and_swell_waves.nc\n",
      "2022/05/data/snow_density.nc\n",
      "2022/05/data/surface_air_pressure.nc\n",
      "2022/05/main.nc\n"
     ]
    }
   ],
   "source": [
    "keys = []\n",
    "date = datetime.date(2022,5,1) # update to desired date\n",
    "prefix = date.strftime('%Y/%m/')\n",
    "\n",
    "response = client.list_objects_v2(Bucket=era5_bucket, Prefix=prefix)\n",
    "response_meta = response.get('ResponseMetadata')\n",
    "\n",
    "if response_meta.get('HTTPStatusCode') == 200:\n",
    "    contents = response.get('Contents')\n",
    "    if contents == None:\n",
    "        print(\"No objects are available for %s\" % date.strftime('%B, %Y'))\n",
    "    else:\n",
    "        for obj in contents:\n",
    "            keys.append(obj.get('Key'))\n",
    "        print(\"There are %s objects available for %s\\n--\" % (len(keys), date.strftime('%B, %Y')))\n",
    "        for k in keys:\n",
    "            print(k)\n",
    "else:\n",
    "    print(\"There was an error with your request.\")"
   ]
  },
  {
   "cell_type": "code",
   "execution_count": 24,
   "id": "5fd1118e",
   "metadata": {},
   "outputs": [
    {
     "data": {
      "text/plain": [
       "<bound method Dataset.info of <xarray.Dataset>\n",
       "Dimensions:                                  (lon: 1440, lat: 721, time1: 744,\n",
       "                                              nv: 2)\n",
       "Coordinates:\n",
       "  * lon                                      (lon) float32 0.0 0.25 ... 359.8\n",
       "  * lat                                      (lat) float32 90.0 89.75 ... -90.0\n",
       "  * time1                                    (time1) datetime64[ns] 2022-05-0...\n",
       "Dimensions without coordinates: nv\n",
       "Data variables:\n",
       "    time1_bounds                             (time1, nv) datetime64[ns] ...\n",
       "    precipitation_amount_1hour_Accumulation  (time1, lat, lon) float32 ...\n",
       "Attributes:\n",
       "    source:       Reanalysis\n",
       "    institution:  ECMWF\n",
       "    title:        ERA5 forecasts>"
      ]
     },
     "execution_count": 24,
     "metadata": {},
     "output_type": "execute_result"
    }
   ],
   "source": [
    "# select date and variable of interest\n",
    "date = datetime.date(2022,5,1)\n",
    "var = 'precipitation_amount_1hour_Accumulation'\n",
    "\n",
    "# file path patterns for remote S3 objects and corresponding local file\n",
    "s3_data_ptrn = '{year}/{month}/data/{var}.nc'\n",
    "data_file_ptrn = '{year}{month}_{var}.nc'\n",
    "\n",
    "year = date.strftime('%Y')\n",
    "month = date.strftime('%m')\n",
    "s3_data_key = s3_data_ptrn.format(year=year, month=month, var=var)\n",
    "data_file = data_file_ptrn.format(year=year, month=month, var=var)\n",
    "\n",
    "if not os.path.isfile(data_file): # check if file already exists\n",
    "    print(\"Downloading %s from S3...\" % s3_data_key)\n",
    "    client.download_file(era5_bucket, s3_data_key, data_file)\n",
    "\n",
    "ds = xr.open_dataset(data_file)\n",
    "ds.info"
   ]
  },
  {
   "cell_type": "code",
   "execution_count": 16,
   "id": "eb54333e",
   "metadata": {},
   "outputs": [
    {
     "data": {
      "text/plain": [
       "ValuesView(Coordinates:\n",
       "  * lon      (lon) float32 0.0 0.25 0.5 0.75 1.0 ... 359.0 359.2 359.5 359.8\n",
       "  * lat      (lat) float32 90.0 89.75 89.5 89.25 ... -89.25 -89.5 -89.75 -90.0\n",
       "  * time1    (time1) datetime64[ns] 2022-05-01 ... 2022-05-01T23:00:00)"
      ]
     },
     "execution_count": 16,
     "metadata": {},
     "output_type": "execute_result"
    }
   ],
   "source": [
    "ds.coords.values()"
   ]
  },
  {
   "cell_type": "markdown",
   "id": "a3f5a33a",
   "metadata": {},
   "source": [
    "## Extract and save as parquet\n",
    "Extract a small subset of the data by date to test the workflow localy"
   ]
  },
  {
   "cell_type": "code",
   "execution_count": 1,
   "id": "c02967f7",
   "metadata": {
    "collapsed": true
   },
   "outputs": [
    {
     "ename": "NameError",
     "evalue": "name 'ds' is not defined",
     "output_type": "error",
     "traceback": [
      "\u001b[1;31m---------------------------------------------------------------------------\u001b[0m",
      "\u001b[1;31mNameError\u001b[0m                                 Traceback (most recent call last)",
      "Cell \u001b[1;32mIn[1], line 1\u001b[0m\n\u001b[1;32m----> 1\u001b[0m ds_1_small\u001b[38;5;241m=\u001b[39m\u001b[43mds\u001b[49m\u001b[38;5;241m.\u001b[39msel(time1\u001b[38;5;241m=\u001b[39m\u001b[38;5;28mslice\u001b[39m(\u001b[38;5;124m'\u001b[39m\u001b[38;5;124m2022-05-01T22:00:00\u001b[39m\u001b[38;5;124m'\u001b[39m,\u001b[38;5;124m'\u001b[39m\u001b[38;5;124m2022-05-01T23:00:00\u001b[39m\u001b[38;5;124m'\u001b[39m))\n",
      "\u001b[1;31mNameError\u001b[0m: name 'ds' is not defined"
     ]
    }
   ],
   "source": [
    "ds_1_small=ds.sel(time1=slice('2022-05-01T22:00:00','2022-05-01T23:00:00'))"
   ]
  },
  {
   "cell_type": "code",
   "execution_count": 14,
   "id": "2a6c0ef1",
   "metadata": {},
   "outputs": [
    {
     "data": {
      "text/html": [
       "<div>\n",
       "<style scoped>\n",
       "    .dataframe tbody tr th:only-of-type {\n",
       "        vertical-align: middle;\n",
       "    }\n",
       "\n",
       "    .dataframe tbody tr th {\n",
       "        vertical-align: top;\n",
       "    }\n",
       "\n",
       "    .dataframe thead th {\n",
       "        text-align: right;\n",
       "    }\n",
       "</style>\n",
       "<table border=\"1\" class=\"dataframe\">\n",
       "  <thead>\n",
       "    <tr style=\"text-align: right;\">\n",
       "      <th></th>\n",
       "      <th>precipitation_amount_1hour_Accumulation</th>\n",
       "    </tr>\n",
       "  </thead>\n",
       "  <tbody>\n",
       "    <tr>\n",
       "      <th>count</th>\n",
       "      <td>4.152960e+06</td>\n",
       "    </tr>\n",
       "    <tr>\n",
       "      <th>mean</th>\n",
       "      <td>9.635711e-05</td>\n",
       "    </tr>\n",
       "    <tr>\n",
       "      <th>std</th>\n",
       "      <td>4.176152e-04</td>\n",
       "    </tr>\n",
       "    <tr>\n",
       "      <th>min</th>\n",
       "      <td>0.000000e+00</td>\n",
       "    </tr>\n",
       "    <tr>\n",
       "      <th>25%</th>\n",
       "      <td>0.000000e+00</td>\n",
       "    </tr>\n",
       "    <tr>\n",
       "      <th>50%</th>\n",
       "      <td>0.000000e+00</td>\n",
       "    </tr>\n",
       "    <tr>\n",
       "      <th>75%</th>\n",
       "      <td>6.103516e-05</td>\n",
       "    </tr>\n",
       "    <tr>\n",
       "      <th>max</th>\n",
       "      <td>2.667236e-02</td>\n",
       "    </tr>\n",
       "  </tbody>\n",
       "</table>\n",
       "</div>"
      ],
      "text/plain": [
       "       precipitation_amount_1hour_Accumulation\n",
       "count                             4.152960e+06\n",
       "mean                              9.635711e-05\n",
       "std                               4.176152e-04\n",
       "min                               0.000000e+00\n",
       "25%                               0.000000e+00\n",
       "50%                               0.000000e+00\n",
       "75%                               6.103516e-05\n",
       "max                               2.667236e-02"
      ]
     },
     "execution_count": 14,
     "metadata": {},
     "output_type": "execute_result"
    }
   ],
   "source": [
    "# Convert from xarray to pandas df\n",
    "df_f = ds.to_dataframe()"
   ]
  },
  {
   "cell_type": "code",
   "execution_count": 15,
   "id": "c0bf6307",
   "metadata": {
    "scrolled": true
   },
   "outputs": [],
   "source": [
    "# Save the subset of localy to a compressed parquet\n",
    "df_f.to_parquet(f'{DATA_DIR}\\df.parquet.gzip', compression='gzip') "
   ]
  }
 ],
 "metadata": {
  "kernelspec": {
   "display_name": "Python 3 (ipykernel)",
   "language": "python",
   "name": "python3"
  },
  "language_info": {
   "codemirror_mode": {
    "name": "ipython",
    "version": 3
   },
   "file_extension": ".py",
   "mimetype": "text/x-python",
   "name": "python",
   "nbconvert_exporter": "python",
   "pygments_lexer": "ipython3",
   "version": "3.10.8"
  }
 },
 "nbformat": 4,
 "nbformat_minor": 5
}
