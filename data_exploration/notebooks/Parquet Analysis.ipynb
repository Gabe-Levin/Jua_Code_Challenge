{
 "cells": [
  {
   "cell_type": "code",
   "execution_count": null,
   "id": "0df5bdad",
   "metadata": {},
   "outputs": [],
   "source": [
    "import pandas as pd\n",
    "from datetime import datetime\n",
    "import os.path\n",
    "from dotenv import load_dotenv\n",
    "import awswrangler as wr\n",
    "import h3"
   ]
  },
  {
   "cell_type": "code",
   "execution_count": null,
   "id": "f7af39bb",
   "metadata": {},
   "outputs": [],
   "source": [
    "load_dotenv()\n",
    "DATA_DIR = os.environ.get(\"DATA_DIR\")\n",
    "S3_DATA_DIR = os.environ.get(\"S3_DATA_DIR\")"
   ]
  },
  {
   "cell_type": "markdown",
   "id": "06780846",
   "metadata": {},
   "source": [
    "## Using Pandas to Read Parquet Files"
   ]
  },
  {
   "cell_type": "code",
   "execution_count": null,
   "id": "98641104",
   "metadata": {},
   "outputs": [],
   "source": [
    "data_pd = pd.read_parquet(f\"{DATA_DIR}\\df.parquet.gzip\")\n",
    "print(data_pd.count()) # example of operation on the returned DataFrame"
   ]
  },
  {
   "cell_type": "markdown",
   "id": "f7595fe9",
   "metadata": {},
   "source": [
    "## Reset Index to Datetime"
   ]
  },
  {
   "cell_type": "code",
   "execution_count": null,
   "id": "73acdf90",
   "metadata": {},
   "outputs": [],
   "source": [
    "start_time = pd.to_datetime(\"2022-05-01 21:00:00\") #inclusive\n",
    "end_time = pd.to_datetime(\"2022-05-01 23:00:00\") #not inclusive"
   ]
  },
  {
   "cell_type": "code",
   "execution_count": null,
   "id": "958e48a8",
   "metadata": {},
   "outputs": [],
   "source": [
    "# Reset index so the time1 is only index\n",
    "data_pd_time_index = data_pd.reset_index(level=['lon','lat','nv'])"
   ]
  },
  {
   "cell_type": "code",
   "execution_count": null,
   "id": "5acc6811",
   "metadata": {},
   "outputs": [],
   "source": [
    "# Set index to pandas datetime\n",
    "data_pd_time_index.index = pd.to_datetime(data_pd_time_index.index)"
   ]
  },
  {
   "cell_type": "code",
   "execution_count": null,
   "id": "8325e984",
   "metadata": {},
   "outputs": [],
   "source": [
    "data_pd_time_index.index[0]"
   ]
  },
  {
   "cell_type": "code",
   "execution_count": null,
   "id": "5cdb5f3a",
   "metadata": {},
   "outputs": [],
   "source": [
    "# Filter by time\n",
    "data_pd_time_index.loc[(data_pd_time_index.index>=start_time)&(data_pd_time_index.index<end_time)]"
   ]
  },
  {
   "cell_type": "markdown",
   "id": "b04ca52a",
   "metadata": {},
   "source": [
    "## Filtering by the hierarchical geospatial index"
   ]
  },
  {
   "cell_type": "code",
   "execution_count": null,
   "id": "558b04a4",
   "metadata": {},
   "outputs": [],
   "source": [
    "# Add h3 field to the dataframe\n",
    "data_pd_time_index['h3_index'] = data_pd_time_index.apply(lambda row: h3.geo_to_h3(row['lat'], row['lon'], 2), axis=1)"
   ]
  },
  {
   "cell_type": "code",
   "execution_count": null,
   "id": "3091d182",
   "metadata": {},
   "outputs": [],
   "source": [
    "# Test a query using h3\n",
    "h3_index = '820327fffffffff'\n",
    "filtered_df = data_pd_time_index[data_pd_time_index['h3_index'] == h3_index]"
   ]
  },
  {
   "cell_type": "code",
   "execution_count": null,
   "id": "b9ff2bc8",
   "metadata": {},
   "outputs": [],
   "source": [
    "filtered_df.describe()"
   ]
  },
  {
   "cell_type": "markdown",
   "id": "8d872ebe",
   "metadata": {},
   "source": [
    "## Exploring AWS Wrangler for Reading Parquet Files from S3"
   ]
  },
  {
   "cell_type": "code",
   "execution_count": null,
   "id": "03a31c22",
   "metadata": {},
   "outputs": [],
   "source": [
    "generator = wr.s3.read_parquet(path = f\"{S3_DATA_DIR}/precipitation_data/\", chunked=1_000_000)"
   ]
  },
  {
   "cell_type": "code",
   "execution_count": null,
   "id": "43bc6688",
   "metadata": {},
   "outputs": [],
   "source": [
    "# Loop through the first generator created to reset indices\n",
    "for df in generator:\n",
    "    df_time_index = df.reset_index(level=['lon','lat','nv'])\n",
    "    pd.to_datetime(df_time_index.index)\n",
    "    print(df_time_index.index.day)\n",
    "    break\n",
    "    "
   ]
  }
 ],
 "metadata": {
  "kernelspec": {
   "display_name": "Python 3 (ipykernel)",
   "language": "python",
   "name": "python3"
  },
  "language_info": {
   "codemirror_mode": {
    "name": "ipython",
    "version": 3
   },
   "file_extension": ".py",
   "mimetype": "text/x-python",
   "name": "python",
   "nbconvert_exporter": "python",
   "pygments_lexer": "ipython3",
   "version": "3.10.8"
  }
 },
 "nbformat": 4,
 "nbformat_minor": 5
}
