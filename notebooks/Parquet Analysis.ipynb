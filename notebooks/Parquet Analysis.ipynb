{
 "cells": [
  {
   "cell_type": "code",
   "execution_count": 1,
   "id": "0df5bdad",
   "metadata": {},
   "outputs": [],
   "source": [
    "import pandas as pd\n",
    "import pyarrow.parquet as pq\n",
    "import dask.dataframe as dd\n",
    "from datetime import datetime\n",
    "import os.path\n",
    "from dotenv import load_dotenv\n",
    "import s3fs\n",
    "import awswrangler as wr"
   ]
  },
  {
   "cell_type": "code",
   "execution_count": 2,
   "id": "f7af39bb",
   "metadata": {},
   "outputs": [],
   "source": [
    "load_dotenv()\n",
    "DATA_DIR = os.environ.get(\"DATA_DIR\")"
   ]
  },
  {
   "cell_type": "markdown",
   "id": "06780846",
   "metadata": {},
   "source": [
    "## Using pandas for querying by date"
   ]
  },
  {
   "cell_type": "code",
   "execution_count": 61,
   "id": "03a31c22",
   "metadata": {},
   "outputs": [],
   "source": [
    "generator = wr.s3.read_parquet(path = \"s3://jua-code-challenge-data/data/precipitation_data/\", chunked=1_000_000)"
   ]
  },
  {
   "cell_type": "code",
   "execution_count": 56,
   "id": "ddf0975a",
   "metadata": {},
   "outputs": [
    {
     "name": "stdout",
     "output_type": "stream",
     "text": [
      "['s3://jua-code-challenge-data/data/precipitation_data/precipitation_2022-05-01.parquet.gzip', 's3://jua-code-challenge-data/data/precipitation_data/precipitation_2022-05-02.parquet.gzip', 's3://jua-code-challenge-data/data/precipitation_data/precipitation_2022-05-03.parquet.gzip', 's3://jua-code-challenge-data/data/precipitation_data/precipitation_2022-05-04.parquet.gzip']\n"
     ]
    }
   ],
   "source": [
    "pq_file_paths = []\n",
    "for i in range(1,5):\n",
    "    file_date = f'2022-05-{i:02d}'\n",
    "    s3_url = f's3://jua-code-challenge-data/data/precipitation_data/precipitation_{file_date}.parquet.gzip'\n",
    "    pq_file_paths.append(s3_url)\n",
    "\n",
    "print(pq_file_paths)"
   ]
  },
  {
   "cell_type": "code",
   "execution_count": 66,
   "id": "43bc6688",
   "metadata": {},
   "outputs": [
    {
     "name": "stdout",
     "output_type": "stream",
     "text": [
      "Int64Index([1, 1, 1, 1, 1, 1, 1, 1, 1, 1,\n",
      "            ...\n",
      "            1, 1, 1, 1, 1, 1, 1, 1, 1, 1],\n",
      "           dtype='int64', name='time1', length=1000000)\n"
     ]
    }
   ],
   "source": [
    "i = 0\n",
    "for df in generator:\n",
    "    i = i + 1\n",
    "    df_time_index = df.reset_index(level=['lon','lat','nv'])\n",
    "    pd.to_datetime(df_time_index.index)\n",
    "    print(df_time_index.index.day)\n",
    "    break\n",
    "    "
   ]
  },
  {
   "cell_type": "code",
   "execution_count": 5,
   "id": "946bf530",
   "metadata": {
    "collapsed": true
   },
   "outputs": [
    {
     "ename": "ArrowInvalid",
     "evalue": "Parquet file size is 0 bytes",
     "output_type": "error",
     "traceback": [
      "\u001b[1;31m---------------------------------------------------------------------------\u001b[0m",
      "\u001b[1;31mArrowInvalid\u001b[0m                              Traceback (most recent call last)",
      "Cell \u001b[1;32mIn[5], line 3\u001b[0m\n\u001b[0;32m      1\u001b[0m s3 \u001b[38;5;241m=\u001b[39m s3fs\u001b[38;5;241m.\u001b[39mS3FileSystem()\n\u001b[1;32m----> 3\u001b[0m pandas_dataframe \u001b[38;5;241m=\u001b[39m \u001b[43mpq\u001b[49m\u001b[38;5;241;43m.\u001b[39;49m\u001b[43mParquetDataset\u001b[49m\u001b[43m(\u001b[49m\u001b[38;5;124;43m'\u001b[39;49m\u001b[38;5;124;43ms3://jua-code-challenge-data/data/precipitation_data/\u001b[39;49m\u001b[38;5;124;43m'\u001b[39;49m\u001b[43m,\u001b[49m\u001b[43m \u001b[49m\u001b[43mfilesystem\u001b[49m\u001b[38;5;241;43m=\u001b[39;49m\u001b[43ms3\u001b[49m\u001b[43m)\u001b[49m\u001b[38;5;241m.\u001b[39mread_pandas()\u001b[38;5;241m.\u001b[39mto_pandas()\n",
      "File \u001b[1;32mD:\\Programs\\envs\\jua\\lib\\site-packages\\pyarrow\\parquet\\__init__.py:1765\u001b[0m, in \u001b[0;36mParquetDataset.__init__\u001b[1;34m(self, path_or_paths, filesystem, schema, metadata, split_row_groups, validate_schema, filters, metadata_nthreads, read_dictionary, memory_map, buffer_size, partitioning, use_legacy_dataset, pre_buffer, coerce_int96_timestamp_unit)\u001b[0m\n\u001b[0;32m   1762\u001b[0m     \u001b[38;5;28mself\u001b[39m\u001b[38;5;241m.\u001b[39m_filter(filters)\n\u001b[0;32m   1764\u001b[0m \u001b[38;5;28;01mif\u001b[39;00m validate_schema:\n\u001b[1;32m-> 1765\u001b[0m     \u001b[38;5;28;43mself\u001b[39;49m\u001b[38;5;241;43m.\u001b[39;49m\u001b[43mvalidate_schemas\u001b[49m\u001b[43m(\u001b[49m\u001b[43m)\u001b[49m\n",
      "File \u001b[1;32mD:\\Programs\\envs\\jua\\lib\\site-packages\\pyarrow\\parquet\\__init__.py:1799\u001b[0m, in \u001b[0;36mParquetDataset.validate_schemas\u001b[1;34m(self)\u001b[0m\n\u001b[0;32m   1797\u001b[0m         \u001b[38;5;28mself\u001b[39m\u001b[38;5;241m.\u001b[39m_schema \u001b[38;5;241m=\u001b[39m \u001b[38;5;28mself\u001b[39m\u001b[38;5;241m.\u001b[39m_common_metadata\u001b[38;5;241m.\u001b[39mschema\n\u001b[0;32m   1798\u001b[0m     \u001b[38;5;28;01melse\u001b[39;00m:\n\u001b[1;32m-> 1799\u001b[0m         \u001b[38;5;28mself\u001b[39m\u001b[38;5;241m.\u001b[39m_schema \u001b[38;5;241m=\u001b[39m \u001b[38;5;28;43mself\u001b[39;49m\u001b[38;5;241;43m.\u001b[39;49m\u001b[43m_pieces\u001b[49m\u001b[43m[\u001b[49m\u001b[38;5;241;43m0\u001b[39;49m\u001b[43m]\u001b[49m\u001b[38;5;241;43m.\u001b[39;49m\u001b[43mget_metadata\u001b[49m\u001b[43m(\u001b[49m\u001b[43m)\u001b[49m\u001b[38;5;241m.\u001b[39mschema\n\u001b[0;32m   1800\u001b[0m \u001b[38;5;28;01melif\u001b[39;00m \u001b[38;5;28mself\u001b[39m\u001b[38;5;241m.\u001b[39m_schema \u001b[38;5;129;01mis\u001b[39;00m \u001b[38;5;28;01mNone\u001b[39;00m:\n\u001b[0;32m   1801\u001b[0m     \u001b[38;5;28mself\u001b[39m\u001b[38;5;241m.\u001b[39m_schema \u001b[38;5;241m=\u001b[39m \u001b[38;5;28mself\u001b[39m\u001b[38;5;241m.\u001b[39m_metadata\u001b[38;5;241m.\u001b[39mschema\n",
      "File \u001b[1;32mD:\\Programs\\envs\\jua\\lib\\site-packages\\pyarrow\\parquet\\__init__.py:1119\u001b[0m, in \u001b[0;36mParquetDatasetPiece.get_metadata\u001b[1;34m(self)\u001b[0m\n\u001b[0;32m   1111\u001b[0m \u001b[38;5;28;01mdef\u001b[39;00m \u001b[38;5;21mget_metadata\u001b[39m(\u001b[38;5;28mself\u001b[39m):\n\u001b[0;32m   1112\u001b[0m     \u001b[38;5;124;03m\"\"\"\u001b[39;00m\n\u001b[0;32m   1113\u001b[0m \u001b[38;5;124;03m    Return the file's metadata.\u001b[39;00m\n\u001b[0;32m   1114\u001b[0m \n\u001b[1;32m   (...)\u001b[0m\n\u001b[0;32m   1117\u001b[0m \u001b[38;5;124;03m    metadata : FileMetaData\u001b[39;00m\n\u001b[0;32m   1118\u001b[0m \u001b[38;5;124;03m    \"\"\"\u001b[39;00m\n\u001b[1;32m-> 1119\u001b[0m     f \u001b[38;5;241m=\u001b[39m \u001b[38;5;28;43mself\u001b[39;49m\u001b[38;5;241;43m.\u001b[39;49m\u001b[43mopen\u001b[49m\u001b[43m(\u001b[49m\u001b[43m)\u001b[49m\n\u001b[0;32m   1120\u001b[0m     \u001b[38;5;28;01mreturn\u001b[39;00m f\u001b[38;5;241m.\u001b[39mmetadata\n",
      "File \u001b[1;32mD:\\Programs\\envs\\jua\\lib\\site-packages\\pyarrow\\parquet\\__init__.py:1126\u001b[0m, in \u001b[0;36mParquetDatasetPiece.open\u001b[1;34m(self)\u001b[0m\n\u001b[0;32m   1122\u001b[0m \u001b[38;5;28;01mdef\u001b[39;00m \u001b[38;5;21mopen\u001b[39m(\u001b[38;5;28mself\u001b[39m):\n\u001b[0;32m   1123\u001b[0m     \u001b[38;5;124;03m\"\"\"\u001b[39;00m\n\u001b[0;32m   1124\u001b[0m \u001b[38;5;124;03m    Return instance of ParquetFile.\u001b[39;00m\n\u001b[0;32m   1125\u001b[0m \u001b[38;5;124;03m    \"\"\"\u001b[39;00m\n\u001b[1;32m-> 1126\u001b[0m     reader \u001b[38;5;241m=\u001b[39m \u001b[38;5;28;43mself\u001b[39;49m\u001b[38;5;241;43m.\u001b[39;49m\u001b[43mopen_file_func\u001b[49m\u001b[43m(\u001b[49m\u001b[38;5;28;43mself\u001b[39;49m\u001b[38;5;241;43m.\u001b[39;49m\u001b[43mpath\u001b[49m\u001b[43m)\u001b[49m\n\u001b[0;32m   1127\u001b[0m     \u001b[38;5;28;01mif\u001b[39;00m \u001b[38;5;129;01mnot\u001b[39;00m \u001b[38;5;28misinstance\u001b[39m(reader, ParquetFile):\n\u001b[0;32m   1128\u001b[0m         reader \u001b[38;5;241m=\u001b[39m ParquetFile(reader, \u001b[38;5;241m*\u001b[39m\u001b[38;5;241m*\u001b[39m\u001b[38;5;28mself\u001b[39m\u001b[38;5;241m.\u001b[39mfile_options)\n",
      "File \u001b[1;32mD:\\Programs\\envs\\jua\\lib\\site-packages\\pyarrow\\parquet\\__init__.py:1510\u001b[0m, in \u001b[0;36m_open_dataset_file\u001b[1;34m(dataset, path, meta)\u001b[0m\n\u001b[0;32m   1507\u001b[0m \u001b[38;5;28;01mif\u001b[39;00m (dataset\u001b[38;5;241m.\u001b[39mfs \u001b[38;5;129;01mis\u001b[39;00m \u001b[38;5;129;01mnot\u001b[39;00m \u001b[38;5;28;01mNone\u001b[39;00m \u001b[38;5;129;01mand\u001b[39;00m\n\u001b[0;32m   1508\u001b[0m         \u001b[38;5;129;01mnot\u001b[39;00m \u001b[38;5;28misinstance\u001b[39m(dataset\u001b[38;5;241m.\u001b[39mfs, legacyfs\u001b[38;5;241m.\u001b[39mLocalFileSystem)):\n\u001b[0;32m   1509\u001b[0m     path \u001b[38;5;241m=\u001b[39m dataset\u001b[38;5;241m.\u001b[39mfs\u001b[38;5;241m.\u001b[39mopen(path, mode\u001b[38;5;241m=\u001b[39m\u001b[38;5;124m'\u001b[39m\u001b[38;5;124mrb\u001b[39m\u001b[38;5;124m'\u001b[39m)\n\u001b[1;32m-> 1510\u001b[0m \u001b[38;5;28;01mreturn\u001b[39;00m \u001b[43mParquetFile\u001b[49m\u001b[43m(\u001b[49m\n\u001b[0;32m   1511\u001b[0m \u001b[43m    \u001b[49m\u001b[43mpath\u001b[49m\u001b[43m,\u001b[49m\n\u001b[0;32m   1512\u001b[0m \u001b[43m    \u001b[49m\u001b[43mmetadata\u001b[49m\u001b[38;5;241;43m=\u001b[39;49m\u001b[43mmeta\u001b[49m\u001b[43m,\u001b[49m\n\u001b[0;32m   1513\u001b[0m \u001b[43m    \u001b[49m\u001b[43mmemory_map\u001b[49m\u001b[38;5;241;43m=\u001b[39;49m\u001b[43mdataset\u001b[49m\u001b[38;5;241;43m.\u001b[39;49m\u001b[43mmemory_map\u001b[49m\u001b[43m,\u001b[49m\n\u001b[0;32m   1514\u001b[0m \u001b[43m    \u001b[49m\u001b[43mread_dictionary\u001b[49m\u001b[38;5;241;43m=\u001b[39;49m\u001b[43mdataset\u001b[49m\u001b[38;5;241;43m.\u001b[39;49m\u001b[43mread_dictionary\u001b[49m\u001b[43m,\u001b[49m\n\u001b[0;32m   1515\u001b[0m \u001b[43m    \u001b[49m\u001b[43mcommon_metadata\u001b[49m\u001b[38;5;241;43m=\u001b[39;49m\u001b[43mdataset\u001b[49m\u001b[38;5;241;43m.\u001b[39;49m\u001b[43mcommon_metadata\u001b[49m\u001b[43m,\u001b[49m\n\u001b[0;32m   1516\u001b[0m \u001b[43m    \u001b[49m\u001b[43mbuffer_size\u001b[49m\u001b[38;5;241;43m=\u001b[39;49m\u001b[43mdataset\u001b[49m\u001b[38;5;241;43m.\u001b[39;49m\u001b[43mbuffer_size\u001b[49m\n\u001b[0;32m   1517\u001b[0m \u001b[43m\u001b[49m\u001b[43m)\u001b[49m\n",
      "File \u001b[1;32mD:\\Programs\\envs\\jua\\lib\\site-packages\\pyarrow\\parquet\\__init__.py:277\u001b[0m, in \u001b[0;36mParquetFile.__init__\u001b[1;34m(self, source, metadata, common_metadata, read_dictionary, memory_map, buffer_size, pre_buffer, coerce_int96_timestamp_unit, decryption_properties)\u001b[0m\n\u001b[0;32m    272\u001b[0m \u001b[38;5;28;01mdef\u001b[39;00m \u001b[38;5;21m__init__\u001b[39m(\u001b[38;5;28mself\u001b[39m, source, metadata\u001b[38;5;241m=\u001b[39m\u001b[38;5;28;01mNone\u001b[39;00m, common_metadata\u001b[38;5;241m=\u001b[39m\u001b[38;5;28;01mNone\u001b[39;00m,\n\u001b[0;32m    273\u001b[0m              read_dictionary\u001b[38;5;241m=\u001b[39m\u001b[38;5;28;01mNone\u001b[39;00m, memory_map\u001b[38;5;241m=\u001b[39m\u001b[38;5;28;01mFalse\u001b[39;00m, buffer_size\u001b[38;5;241m=\u001b[39m\u001b[38;5;241m0\u001b[39m,\n\u001b[0;32m    274\u001b[0m              pre_buffer\u001b[38;5;241m=\u001b[39m\u001b[38;5;28;01mFalse\u001b[39;00m, coerce_int96_timestamp_unit\u001b[38;5;241m=\u001b[39m\u001b[38;5;28;01mNone\u001b[39;00m,\n\u001b[0;32m    275\u001b[0m              decryption_properties\u001b[38;5;241m=\u001b[39m\u001b[38;5;28;01mNone\u001b[39;00m):\n\u001b[0;32m    276\u001b[0m     \u001b[38;5;28mself\u001b[39m\u001b[38;5;241m.\u001b[39mreader \u001b[38;5;241m=\u001b[39m ParquetReader()\n\u001b[1;32m--> 277\u001b[0m     \u001b[38;5;28;43mself\u001b[39;49m\u001b[38;5;241;43m.\u001b[39;49m\u001b[43mreader\u001b[49m\u001b[38;5;241;43m.\u001b[39;49m\u001b[43mopen\u001b[49m\u001b[43m(\u001b[49m\n\u001b[0;32m    278\u001b[0m \u001b[43m        \u001b[49m\u001b[43msource\u001b[49m\u001b[43m,\u001b[49m\u001b[43m \u001b[49m\u001b[43muse_memory_map\u001b[49m\u001b[38;5;241;43m=\u001b[39;49m\u001b[43mmemory_map\u001b[49m\u001b[43m,\u001b[49m\n\u001b[0;32m    279\u001b[0m \u001b[43m        \u001b[49m\u001b[43mbuffer_size\u001b[49m\u001b[38;5;241;43m=\u001b[39;49m\u001b[43mbuffer_size\u001b[49m\u001b[43m,\u001b[49m\u001b[43m \u001b[49m\u001b[43mpre_buffer\u001b[49m\u001b[38;5;241;43m=\u001b[39;49m\u001b[43mpre_buffer\u001b[49m\u001b[43m,\u001b[49m\n\u001b[0;32m    280\u001b[0m \u001b[43m        \u001b[49m\u001b[43mread_dictionary\u001b[49m\u001b[38;5;241;43m=\u001b[39;49m\u001b[43mread_dictionary\u001b[49m\u001b[43m,\u001b[49m\u001b[43m \u001b[49m\u001b[43mmetadata\u001b[49m\u001b[38;5;241;43m=\u001b[39;49m\u001b[43mmetadata\u001b[49m\u001b[43m,\u001b[49m\n\u001b[0;32m    281\u001b[0m \u001b[43m        \u001b[49m\u001b[43mcoerce_int96_timestamp_unit\u001b[49m\u001b[38;5;241;43m=\u001b[39;49m\u001b[43mcoerce_int96_timestamp_unit\u001b[49m\u001b[43m,\u001b[49m\n\u001b[0;32m    282\u001b[0m \u001b[43m        \u001b[49m\u001b[43mdecryption_properties\u001b[49m\u001b[38;5;241;43m=\u001b[39;49m\u001b[43mdecryption_properties\u001b[49m\n\u001b[0;32m    283\u001b[0m \u001b[43m    \u001b[49m\u001b[43m)\u001b[49m\n\u001b[0;32m    284\u001b[0m     \u001b[38;5;28mself\u001b[39m\u001b[38;5;241m.\u001b[39mcommon_metadata \u001b[38;5;241m=\u001b[39m common_metadata\n\u001b[0;32m    285\u001b[0m     \u001b[38;5;28mself\u001b[39m\u001b[38;5;241m.\u001b[39m_nested_paths_by_prefix \u001b[38;5;241m=\u001b[39m \u001b[38;5;28mself\u001b[39m\u001b[38;5;241m.\u001b[39m_build_nested_paths()\n",
      "File \u001b[1;32mD:\\Programs\\envs\\jua\\lib\\site-packages\\pyarrow\\_parquet.pyx:1213\u001b[0m, in \u001b[0;36mpyarrow._parquet.ParquetReader.open\u001b[1;34m()\u001b[0m\n",
      "File \u001b[1;32mD:\\Programs\\envs\\jua\\lib\\site-packages\\pyarrow\\error.pxi:100\u001b[0m, in \u001b[0;36mpyarrow.lib.check_status\u001b[1;34m()\u001b[0m\n",
      "\u001b[1;31mArrowInvalid\u001b[0m: Parquet file size is 0 bytes"
     ]
    }
   ],
   "source": [
    "s3 = s3fs.S3FileSystem()\n",
    "\n",
    "pandas_dataframe = pq.ParquetDataset('s3://jua-code-challenge-data/data/precipitation_data/', filesystem=s3).read_pandas().to_pandas()"
   ]
  },
  {
   "cell_type": "code",
   "execution_count": 42,
   "id": "d59866ad",
   "metadata": {
    "collapsed": true
   },
   "outputs": [
    {
     "ename": "TypeError",
     "evalue": "read_table() got an unexpected keyword argument 'chunksize'",
     "output_type": "error",
     "traceback": [
      "\u001b[1;31m---------------------------------------------------------------------------\u001b[0m",
      "\u001b[1;31mTypeError\u001b[0m                                 Traceback (most recent call last)",
      "Cell \u001b[1;32mIn[42], line 1\u001b[0m\n\u001b[1;32m----> 1\u001b[0m df \u001b[38;5;241m=\u001b[39m \u001b[43mpd\u001b[49m\u001b[38;5;241;43m.\u001b[39;49m\u001b[43mread_parquet\u001b[49m\u001b[43m(\u001b[49m\u001b[38;5;124;43m'\u001b[39;49m\u001b[38;5;124;43ms3://jua-code-challenge-data/data/precipitation_data/\u001b[39;49m\u001b[38;5;124;43m'\u001b[39;49m\u001b[43m,\u001b[49m\u001b[43m \u001b[49m\u001b[43mengine\u001b[49m\u001b[38;5;241;43m=\u001b[39;49m\u001b[38;5;124;43m'\u001b[39;49m\u001b[38;5;124;43mpyarrow\u001b[39;49m\u001b[38;5;124;43m'\u001b[39;49m\u001b[43m,\u001b[49m\u001b[43m \u001b[49m\u001b[43mchunksize\u001b[49m\u001b[38;5;241;43m=\u001b[39;49m\u001b[38;5;241;43m1000\u001b[39;49m\u001b[43m)\u001b[49m\n",
      "File \u001b[1;32mD:\\Programs\\envs\\jua\\lib\\site-packages\\pandas\\io\\parquet.py:493\u001b[0m, in \u001b[0;36mread_parquet\u001b[1;34m(path, engine, columns, storage_options, use_nullable_dtypes, **kwargs)\u001b[0m\n\u001b[0;32m    446\u001b[0m \u001b[38;5;124;03m\"\"\"\u001b[39;00m\n\u001b[0;32m    447\u001b[0m \u001b[38;5;124;03mLoad a parquet object from the file path, returning a DataFrame.\u001b[39;00m\n\u001b[0;32m    448\u001b[0m \n\u001b[1;32m   (...)\u001b[0m\n\u001b[0;32m    489\u001b[0m \u001b[38;5;124;03mDataFrame\u001b[39;00m\n\u001b[0;32m    490\u001b[0m \u001b[38;5;124;03m\"\"\"\u001b[39;00m\n\u001b[0;32m    491\u001b[0m impl \u001b[38;5;241m=\u001b[39m get_engine(engine)\n\u001b[1;32m--> 493\u001b[0m \u001b[38;5;28;01mreturn\u001b[39;00m impl\u001b[38;5;241m.\u001b[39mread(\n\u001b[0;32m    494\u001b[0m     path,\n\u001b[0;32m    495\u001b[0m     columns\u001b[38;5;241m=\u001b[39mcolumns,\n\u001b[0;32m    496\u001b[0m     storage_options\u001b[38;5;241m=\u001b[39mstorage_options,\n\u001b[0;32m    497\u001b[0m     use_nullable_dtypes\u001b[38;5;241m=\u001b[39muse_nullable_dtypes,\n\u001b[0;32m    498\u001b[0m     \u001b[38;5;241m*\u001b[39m\u001b[38;5;241m*\u001b[39mkwargs,\n\u001b[0;32m    499\u001b[0m )\n",
      "File \u001b[1;32mD:\\Programs\\envs\\jua\\lib\\site-packages\\pandas\\io\\parquet.py:240\u001b[0m, in \u001b[0;36mPyArrowImpl.read\u001b[1;34m(self, path, columns, use_nullable_dtypes, storage_options, **kwargs)\u001b[0m\n\u001b[0;32m    233\u001b[0m path_or_handle, handles, kwargs[\u001b[38;5;124m\"\u001b[39m\u001b[38;5;124mfilesystem\u001b[39m\u001b[38;5;124m\"\u001b[39m] \u001b[38;5;241m=\u001b[39m _get_path_or_handle(\n\u001b[0;32m    234\u001b[0m     path,\n\u001b[0;32m    235\u001b[0m     kwargs\u001b[38;5;241m.\u001b[39mpop(\u001b[38;5;124m\"\u001b[39m\u001b[38;5;124mfilesystem\u001b[39m\u001b[38;5;124m\"\u001b[39m, \u001b[38;5;28;01mNone\u001b[39;00m),\n\u001b[0;32m    236\u001b[0m     storage_options\u001b[38;5;241m=\u001b[39mstorage_options,\n\u001b[0;32m    237\u001b[0m     mode\u001b[38;5;241m=\u001b[39m\u001b[38;5;124m\"\u001b[39m\u001b[38;5;124mrb\u001b[39m\u001b[38;5;124m\"\u001b[39m,\n\u001b[0;32m    238\u001b[0m )\n\u001b[0;32m    239\u001b[0m \u001b[38;5;28;01mtry\u001b[39;00m:\n\u001b[1;32m--> 240\u001b[0m     result \u001b[38;5;241m=\u001b[39m \u001b[38;5;28mself\u001b[39m\u001b[38;5;241m.\u001b[39mapi\u001b[38;5;241m.\u001b[39mparquet\u001b[38;5;241m.\u001b[39mread_table(\n\u001b[0;32m    241\u001b[0m         path_or_handle, columns\u001b[38;5;241m=\u001b[39mcolumns, \u001b[38;5;241m*\u001b[39m\u001b[38;5;241m*\u001b[39mkwargs\n\u001b[0;32m    242\u001b[0m     )\u001b[38;5;241m.\u001b[39mto_pandas(\u001b[38;5;241m*\u001b[39m\u001b[38;5;241m*\u001b[39mto_pandas_kwargs)\n\u001b[0;32m    243\u001b[0m     \u001b[38;5;28;01mif\u001b[39;00m manager \u001b[38;5;241m==\u001b[39m \u001b[38;5;124m\"\u001b[39m\u001b[38;5;124marray\u001b[39m\u001b[38;5;124m\"\u001b[39m:\n\u001b[0;32m    244\u001b[0m         result \u001b[38;5;241m=\u001b[39m result\u001b[38;5;241m.\u001b[39m_as_manager(\u001b[38;5;124m\"\u001b[39m\u001b[38;5;124marray\u001b[39m\u001b[38;5;124m\"\u001b[39m, copy\u001b[38;5;241m=\u001b[39m\u001b[38;5;28;01mFalse\u001b[39;00m)\n",
      "\u001b[1;31mTypeError\u001b[0m: read_table() got an unexpected keyword argument 'chunksize'"
     ]
    }
   ],
   "source": [
    "df = pd.read_parquet('s3://jua-code-challenge-data/data/precipitation_data/', engine='pyarrow', chunksize=1000)    "
   ]
  },
  {
   "cell_type": "code",
   "execution_count": null,
   "id": "98641104",
   "metadata": {},
   "outputs": [],
   "source": [
    "data_pd = pd.read_parquet(f\"{DATA_DIR}\\df.parquet.gzip\")\n",
    "print(data_pd.count()) # example of operation on the returned DataFrame"
   ]
  },
  {
   "cell_type": "code",
   "execution_count": null,
   "id": "018e48d8",
   "metadata": {},
   "outputs": [],
   "source": [
    "data_pd"
   ]
  },
  {
   "cell_type": "markdown",
   "id": "f7595fe9",
   "metadata": {},
   "source": [
    "## Reset index"
   ]
  },
  {
   "cell_type": "code",
   "execution_count": null,
   "id": "4ee8a49d",
   "metadata": {},
   "outputs": [],
   "source": [
    "data_pd.index"
   ]
  },
  {
   "cell_type": "code",
   "execution_count": null,
   "id": "73acdf90",
   "metadata": {},
   "outputs": [],
   "source": [
    "start_time = pd.to_datetime(\"2022-05-01 21:00:00\") #inclusive\n",
    "end_time = pd.to_datetime(\"2022-05-01 23:00:00\") #not inclusive"
   ]
  },
  {
   "cell_type": "code",
   "execution_count": null,
   "id": "958e48a8",
   "metadata": {},
   "outputs": [],
   "source": [
    "# Reset index so the time1 is only index\n",
    "data_pd_time_index = data_pd.reset_index(level=['lon','lat','nv'])"
   ]
  },
  {
   "cell_type": "code",
   "execution_count": null,
   "id": "5acc6811",
   "metadata": {},
   "outputs": [],
   "source": [
    "# Set index to pandas datetime\n",
    "data_pd_time_index.index = pd.to_datetime(data_pd_time_index.index)"
   ]
  },
  {
   "cell_type": "code",
   "execution_count": null,
   "id": "e55baba7",
   "metadata": {},
   "outputs": [],
   "source": [
    "data_pd_time_index.index"
   ]
  },
  {
   "cell_type": "code",
   "execution_count": null,
   "id": "5cdb5f3a",
   "metadata": {},
   "outputs": [],
   "source": [
    "# Filter by time\n",
    "data_pd_time_index.loc[(data_pd_time_index.index>=start_time)&(data_pd_time_index.index<end_time)]"
   ]
  },
  {
   "cell_type": "markdown",
   "id": "b04ca52a",
   "metadata": {},
   "source": [
    "## Filtering by the hierarchical geospatial index"
   ]
  },
  {
   "cell_type": "code",
   "execution_count": null,
   "id": "df5124a5",
   "metadata": {},
   "outputs": [],
   "source": [
    "import h3"
   ]
  },
  {
   "cell_type": "code",
   "execution_count": null,
   "id": "a802d762",
   "metadata": {},
   "outputs": [],
   "source": [
    "data_pd_time_index"
   ]
  },
  {
   "cell_type": "code",
   "execution_count": null,
   "id": "558b04a4",
   "metadata": {},
   "outputs": [],
   "source": [
    "data_pd_time_index['h3_index'] = data_pd_time_index.apply(lambda row: h3.geo_to_h3(row['lat'], row['lon'], 2), axis=1)"
   ]
  },
  {
   "cell_type": "code",
   "execution_count": null,
   "id": "b9898533",
   "metadata": {},
   "outputs": [],
   "source": [
    "data_pd_time_index"
   ]
  },
  {
   "cell_type": "code",
   "execution_count": null,
   "id": "3091d182",
   "metadata": {},
   "outputs": [],
   "source": [
    "h3_index = '820327fffffffff'\n",
    "filtered_df = data_pd_time_index[data_pd_time_index['h3_index'] == h3_index]"
   ]
  },
  {
   "cell_type": "code",
   "execution_count": null,
   "id": "b9ff2bc8",
   "metadata": {},
   "outputs": [],
   "source": [
    "filtered_df.describe()"
   ]
  },
  {
   "cell_type": "code",
   "execution_count": null,
   "id": "5546d8d9",
   "metadata": {},
   "outputs": [],
   "source": []
  },
  {
   "cell_type": "code",
   "execution_count": null,
   "id": "3f4f6c75",
   "metadata": {},
   "outputs": [],
   "source": []
  },
  {
   "cell_type": "code",
   "execution_count": null,
   "id": "3887632a",
   "metadata": {},
   "outputs": [],
   "source": []
  },
  {
   "cell_type": "markdown",
   "id": "87610034",
   "metadata": {},
   "source": [
    "# Graveyard"
   ]
  },
  {
   "cell_type": "markdown",
   "id": "c823694a",
   "metadata": {},
   "source": [
    "## Plot data on map"
   ]
  },
  {
   "cell_type": "code",
   "execution_count": null,
   "id": "141330dc",
   "metadata": {},
   "outputs": [],
   "source": [
    "import geopandas\n",
    "import matplotlib.pyplot as plt"
   ]
  },
  {
   "cell_type": "code",
   "execution_count": null,
   "id": "39c97921",
   "metadata": {},
   "outputs": [],
   "source": [
    "conda install geopandas"
   ]
  },
  {
   "cell_type": "markdown",
   "id": "6e9abde3",
   "metadata": {},
   "source": [
    "## Using pyarrow for querying by date"
   ]
  },
  {
   "cell_type": "markdown",
   "id": "0c223048",
   "metadata": {},
   "source": [
    "data_pa = pa.parquet.read_table(f\"{DATA_DIR}df.parquet.gzip\")"
   ]
  },
  {
   "cell_type": "markdown",
   "id": "de0bf909",
   "metadata": {},
   "source": [
    "data_pa"
   ]
  },
  {
   "cell_type": "markdown",
   "id": "7b85996f",
   "metadata": {},
   "source": [
    "timestamp_header = \"time1\"\n",
    "#start_time = datetime('2022-04-30 21:00:00.00000')\n",
    "#end_time = datetime('2022-05-01 18:00:00.000000')\n",
    "\n",
    "date_string = \"2022-04-30 21:00:00.000000\"\n",
    "date_object = pa.strptime(date_string, '%Y-%m-%d %H:%M:%S.%f')\n",
    "start_time = pa.TimestampScalar(date_object, 'us')\n",
    "print(start_time)"
   ]
  },
  {
   "cell_type": "markdown",
   "id": "83b705f6",
   "metadata": {},
   "source": [
    "data_pq[timestamp_header][0]"
   ]
  },
  {
   "cell_type": "markdown",
   "id": "3efca6f7",
   "metadata": {},
   "source": [
    "data_pq[timestamp_header][0]"
   ]
  },
  {
   "cell_type": "markdown",
   "id": "73bd6c76",
   "metadata": {},
   "source": [
    "filtered_table = data_pq.filter((data_pq[timestamp_header] >= start_time) & (data_pq[timestamp_header] <= start_time)\n",
    ")"
   ]
  },
  {
   "cell_type": "code",
   "execution_count": null,
   "id": "fecd2296",
   "metadata": {},
   "outputs": [],
   "source": []
  }
 ],
 "metadata": {
  "kernelspec": {
   "display_name": "Python 3 (ipykernel)",
   "language": "python",
   "name": "python3"
  },
  "language_info": {
   "codemirror_mode": {
    "name": "ipython",
    "version": 3
   },
   "file_extension": ".py",
   "mimetype": "text/x-python",
   "name": "python",
   "nbconvert_exporter": "python",
   "pygments_lexer": "ipython3",
   "version": "3.10.8"
  }
 },
 "nbformat": 4,
 "nbformat_minor": 5
}
